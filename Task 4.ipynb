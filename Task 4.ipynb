{
 "cells": [
  {
   "cell_type": "code",
   "execution_count": 1,
   "id": "92fcae8d",
   "metadata": {},
   "outputs": [],
   "source": [
    "from pyopenms import *"
   ]
  },
  {
   "cell_type": "code",
   "execution_count": 4,
   "id": "06227b1b",
   "metadata": {},
   "outputs": [
    {
     "name": "stdout",
     "output_type": "stream",
     "text": [
      "K\n"
     ]
    },
    {
     "data": {
      "text/plain": [
       "47"
      ]
     },
     "execution_count": 4,
     "metadata": {},
     "output_type": "execute_result"
    }
   ],
   "source": [
    "dig = ProteaseDigestion()\n",
    "dig.getEnzymeName() \n",
    "bsa = \"\".join([l.strip() for l in open(\"uniprot-yourlist_M20211212A084FC58F6BBA219896F365D15F2EB4435AA19W.fasta\").readlines()[1:]])\n",
    "bsa = AASequence.fromString(bsa)\n",
    "result = []\n",
    "dig.digest(bsa, result)\n",
    "print(result[4].toString())\n",
    "len(result) \n"
   ]
  },
  {
   "cell_type": "code",
   "execution_count": 5,
   "id": "727c97ee",
   "metadata": {},
   "outputs": [
    {
     "name": "stdout",
     "output_type": "stream",
     "text": [
      "GSMKPVK\n",
      "TEEPELEPLCCCEYIDR\n",
      "NHVATCLCDCQDLDEGCDR\n",
      "SLQPETCER\n",
      "IMDTISDR\n",
      "EQTLFFLSLGLFSLGYMYYVFLQEVVPK\n",
      "VGPVQLAVLTCGLFLILLALHR\n",
      "NPGYLSNPASGDR\n",
      "SLSSSQLECLSR\n",
      "GFPGADMSGSLNNR\n",
      "MPAGSPTK\n",
      "CQLVRPAR\n",
      "ICGICVR\n",
      "EVQQALR\n",
      "LLCGLIVDTGLLG\n"
     ]
    }
   ],
   "source": [
    "dig.digest(bsa, result, 7, 40)\n",
    "for s in result:\n",
    "    print(s.toString())"
   ]
  },
  {
   "cell_type": "code",
   "execution_count": null,
   "id": "4fbc837c",
   "metadata": {},
   "outputs": [],
   "source": []
  }
 ],
 "metadata": {
  "kernelspec": {
   "display_name": "Python 3",
   "language": "python",
   "name": "python3"
  },
  "language_info": {
   "codemirror_mode": {
    "name": "ipython",
    "version": 3
   },
   "file_extension": ".py",
   "mimetype": "text/x-python",
   "name": "python",
   "nbconvert_exporter": "python",
   "pygments_lexer": "ipython3",
   "version": "3.8.8"
  }
 },
 "nbformat": 4,
 "nbformat_minor": 5
}
